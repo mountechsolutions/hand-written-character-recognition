{
  "nbformat": 4,
  "nbformat_minor": 0,
  "metadata": {
    "colab": {
      "name": "Tesseract_imageProcessing.ipynb",
      "provenance": [],
      "authorship_tag": "ABX9TyOmA0sY09xa5eYGPcBiGo8J",
      "include_colab_link": true
    },
    "kernelspec": {
      "name": "python3",
      "display_name": "Python 3"
    }
  },
  "cells": [
    {
      "cell_type": "markdown",
      "metadata": {
        "id": "view-in-github",
        "colab_type": "text"
      },
      "source": [
        "<a href=\"https://colab.research.google.com/github/mountechsolutions/hand-written-character-recognition/blob/master/Suryaman/Tesseract_imageProcessing.ipynb\" target=\"_parent\"><img src=\"https://colab.research.google.com/assets/colab-badge.svg\" alt=\"Open In Colab\"/></a>"
      ]
    },
    {
      "cell_type": "code",
      "metadata": {
        "id": "FQyxjW2K7A8J",
        "colab_type": "code",
        "colab": {
          "base_uri": "https://localhost:8080/",
          "height": 759
        },
        "outputId": "0e15edd6-8ecb-47ad-a6bc-f3daba37c3b0"
      },
      "source": [
        "#Installing tesseract\n",
        "!sudo apt install tesseract-ocr-nep"
      ],
      "execution_count": 1,
      "outputs": [
        {
          "output_type": "stream",
          "text": [
            "Reading package lists... Done\n",
            "Building dependency tree       \n",
            "Reading state information... Done\n",
            "The following package was automatically installed and is no longer required:\n",
            "  libnvidia-common-440\n",
            "Use 'sudo apt autoremove' to remove it.\n",
            "The following additional packages will be installed:\n",
            "  tesseract-ocr tesseract-ocr-eng tesseract-ocr-osd\n",
            "The following NEW packages will be installed:\n",
            "  tesseract-ocr tesseract-ocr-eng tesseract-ocr-nep tesseract-ocr-osd\n",
            "0 upgraded, 4 newly installed, 0 to remove and 35 not upgraded.\n",
            "Need to get 5,273 kB of archives.\n",
            "After this operation, 16.8 MB of additional disk space will be used.\n",
            "Get:1 http://archive.ubuntu.com/ubuntu bionic/universe amd64 tesseract-ocr-eng all 4.00~git24-0e00fe6-1.2 [1,588 kB]\n",
            "Get:2 http://archive.ubuntu.com/ubuntu bionic/universe amd64 tesseract-ocr-osd all 4.00~git24-0e00fe6-1.2 [2,989 kB]\n",
            "Get:3 http://archive.ubuntu.com/ubuntu bionic/universe amd64 tesseract-ocr amd64 4.00~git2288-10f4998a-2 [218 kB]\n",
            "Get:4 http://archive.ubuntu.com/ubuntu bionic/universe amd64 tesseract-ocr-nep all 4.00~git24-0e00fe6-1.2 [478 kB]\n",
            "Fetched 5,273 kB in 3s (1,758 kB/s)\n",
            "debconf: unable to initialize frontend: Dialog\n",
            "debconf: (No usable dialog-like program is installed, so the dialog based frontend cannot be used. at /usr/share/perl5/Debconf/FrontEnd/Dialog.pm line 76, <> line 4.)\n",
            "debconf: falling back to frontend: Readline\n",
            "debconf: unable to initialize frontend: Readline\n",
            "debconf: (This frontend requires a controlling tty.)\n",
            "debconf: falling back to frontend: Teletype\n",
            "dpkg-preconfigure: unable to re-open stdin: \n",
            "Selecting previously unselected package tesseract-ocr-eng.\n",
            "(Reading database ... 144487 files and directories currently installed.)\n",
            "Preparing to unpack .../tesseract-ocr-eng_4.00~git24-0e00fe6-1.2_all.deb ...\n",
            "Unpacking tesseract-ocr-eng (4.00~git24-0e00fe6-1.2) ...\n",
            "Selecting previously unselected package tesseract-ocr-osd.\n",
            "Preparing to unpack .../tesseract-ocr-osd_4.00~git24-0e00fe6-1.2_all.deb ...\n",
            "Unpacking tesseract-ocr-osd (4.00~git24-0e00fe6-1.2) ...\n",
            "Selecting previously unselected package tesseract-ocr.\n",
            "Preparing to unpack .../tesseract-ocr_4.00~git2288-10f4998a-2_amd64.deb ...\n",
            "Unpacking tesseract-ocr (4.00~git2288-10f4998a-2) ...\n",
            "Selecting previously unselected package tesseract-ocr-nep.\n",
            "Preparing to unpack .../tesseract-ocr-nep_4.00~git24-0e00fe6-1.2_all.deb ...\n",
            "Unpacking tesseract-ocr-nep (4.00~git24-0e00fe6-1.2) ...\n",
            "Setting up tesseract-ocr-osd (4.00~git24-0e00fe6-1.2) ...\n",
            "Setting up tesseract-ocr-eng (4.00~git24-0e00fe6-1.2) ...\n",
            "Setting up tesseract-ocr (4.00~git2288-10f4998a-2) ...\n",
            "Setting up tesseract-ocr-nep (4.00~git24-0e00fe6-1.2) ...\n",
            "Processing triggers for man-db (2.8.3-2ubuntu0.1) ...\n"
          ],
          "name": "stdout"
        }
      ]
    },
    {
      "cell_type": "code",
      "metadata": {
        "id": "xiz9iv4U7mB5",
        "colab_type": "code",
        "colab": {
          "base_uri": "https://localhost:8080/",
          "height": 205
        },
        "outputId": "237117d8-f465-4271-e2cb-c1fb6d1ea7a7"
      },
      "source": [
        "!pip install pytesseract"
      ],
      "execution_count": 2,
      "outputs": [
        {
          "output_type": "stream",
          "text": [
            "Collecting pytesseract\n",
            "  Downloading https://files.pythonhosted.org/packages/1d/d8/521db389ff0aae32035bfda6ed39cb2c2e28521c47015f6431f07460c50a/pytesseract-0.3.4.tar.gz\n",
            "Requirement already satisfied: Pillow in /usr/local/lib/python3.6/dist-packages (from pytesseract) (7.0.0)\n",
            "Building wheels for collected packages: pytesseract\n",
            "  Building wheel for pytesseract (setup.py) ... \u001b[?25l\u001b[?25hdone\n",
            "  Created wheel for pytesseract: filename=pytesseract-0.3.4-py2.py3-none-any.whl size=13431 sha256=9c56e78a34b62b06ce9409917e146633522bf1975607f99d440be85f7dc9d641\n",
            "  Stored in directory: /root/.cache/pip/wheels/63/2a/a0/7596d2e0a73cf0aeffd6f6170862c4e73f3763b7827e48691a\n",
            "Successfully built pytesseract\n",
            "Installing collected packages: pytesseract\n",
            "Successfully installed pytesseract-0.3.4\n"
          ],
          "name": "stdout"
        }
      ]
    },
    {
      "cell_type": "code",
      "metadata": {
        "id": "LSCqL0qR7s6x",
        "colab_type": "code",
        "colab": {}
      },
      "source": [
        "import numpy as np\n",
        "import matplotlib.pyplot as plt\n",
        "import pytesseract\n",
        "try:\n",
        "  from PIL import Image\n",
        "except ImportError:\n",
        "  import Image  "
      ],
      "execution_count": 3,
      "outputs": []
    },
    {
      "cell_type": "code",
      "metadata": {
        "id": "nw-eJSrE9yPS",
        "colab_type": "code",
        "colab": {
          "base_uri": "https://localhost:8080/",
          "height": 151
        },
        "outputId": "82442ab9-090d-4825-c9bd-aac0083ba92d"
      },
      "source": [
        "filename = 'nep.png'\n",
        "img = Image.open(filename)\n",
        "custom_config = ' --oem 3 --psm 6'\n",
        "extractedText = pytesseract.image_to_string(img, lang='nep', config = custom_config)\n",
        "print(extractedText)"
      ],
      "execution_count": 4,
      "outputs": [
        {
          "output_type": "stream",
          "text": [
            "मिहेनत गर तिमले अब लक्ष्य छैन टाढा\n",
            "फुलको ब्वोटमा फुल मात्रै हैन हुन्छन्‌ काँडा\n",
            "काँडा हटाई फुलको सुवास तिमले छर्नुपर्छ\n",
            "देशको निम्ति राष्ट्रभक्ति मनमा भर्नुपर्छ\n",
            "परिश्रमी ती हातहरू नहुन्‌ कहिल्यै पछि\n",
            "सबैलाई साथ लिई तिमी बढ्नुपर्छ अघि\n",
            "गुरु अनि अभिभावक हन्‌ सबै तिमा मित्र\n",
            "देशका लागि तिमले अब कोर नयाँ चित्र\n"
          ],
          "name": "stdout"
        }
      ]
    },
    {
      "cell_type": "code",
      "metadata": {
        "id": "HfqK7nhH-eoq",
        "colab_type": "code",
        "colab": {
          "base_uri": "https://localhost:8080/",
          "height": 504
        },
        "outputId": "35a70ec6-a93b-4c71-8364-875a833adbd9"
      },
      "source": [
        "filename = 'eng.png'\n",
        "img = Image.open(filename)\n",
        "custom_config = ' --oem 3 --psm 6'\n",
        "extractedText = pytesseract.image_to_string(img, lang='eng', config = custom_config)\n",
        "print(extractedText)"
      ],
      "execution_count": 5,
      "outputs": [
        {
          "output_type": "stream",
          "text": [
            "THE CLOUDS THAT ARE SO LIGHT\n",
            "THE clouds that are so light,\n",
            "Beautiful, swift and bright,\n",
            "\n",
            "Cast shadows on field and park\n",
            "\n",
            "Of the earth that is so dark,\n",
            "\n",
            "And even so now, light one!\n",
            "Beautiful, swift and bright one!\n",
            "\n",
            "You let fall on a heart that was dark,\n",
            "Unillumined, a deeper mark.\n",
            "\n",
            "But clouds would have, without earth\n",
            "To shadow, far less worth:\n",
            "\n",
            "Away from your shadow on me\n",
            "\n",
            "Your beauty less would be,\n",
            "\n",
            "And if it still be treasured\n",
            "\n",
            "An age hence, it shall be measured\n",
            "By this small dark spot\n",
            "\n",
            "Without which it were not.\n",
            "\n",
            "Edward Thomas\n"
          ],
          "name": "stdout"
        }
      ]
    }
  ]
}