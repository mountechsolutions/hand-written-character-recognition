{
  "nbformat": 4,
  "nbformat_minor": 0,
  "metadata": {
    "colab": {
      "name": "CharacterRecognition.ipynb",
      "provenance": [],
      "collapsed_sections": []
    },
    "kernelspec": {
      "name": "python3",
      "display_name": "Python 3"
    }
  },
  "cells": [
    {
      "cell_type": "code",
      "metadata": {
        "id": "-XgRkGQlvnEw",
        "colab_type": "code",
        "colab": {}
      },
      "source": [
        "%matplotlib inline"
      ],
      "execution_count": 1,
      "outputs": []
    },
    {
      "cell_type": "code",
      "metadata": {
        "id": "15sYj-BDv2wQ",
        "colab_type": "code",
        "colab": {}
      },
      "source": [
        "from sklearn.datasets import fetch_openml\n",
        "mnist = fetch_openml('mnist_784')"
      ],
      "execution_count": 4,
      "outputs": []
    },
    {
      "cell_type": "code",
      "metadata": {
        "id": "2cnMJRnnwGiS",
        "colab_type": "code",
        "colab": {
          "base_uri": "https://localhost:8080/",
          "height": 34
        },
        "outputId": "3a32a34c-0b36-4d8b-eb0d-4c237db63f2b"
      },
      "source": [
        "print(mnist.data.shape)"
      ],
      "execution_count": 10,
      "outputs": [
        {
          "output_type": "stream",
          "text": [
            "(70000, 784)\n"
          ],
          "name": "stdout"
        }
      ]
    },
    {
      "cell_type": "code",
      "metadata": {
        "id": "4THpDMDwxCbZ",
        "colab_type": "code",
        "colab": {}
      },
      "source": [
        "from sklearn.model_selection import train_test_split\n",
        "train_img, test_img, train_lbl, test_lbl = train_test_split(\n",
        "    mnist.data, mnist.target, test_size = 0.3, random_state=0\n",
        ")"
      ],
      "execution_count": 14,
      "outputs": []
    },
    {
      "cell_type": "code",
      "metadata": {
        "id": "2ot-DD6mxUh1",
        "colab_type": "code",
        "colab": {
          "base_uri": "https://localhost:8080/",
          "height": 34
        },
        "outputId": "d7532934-ddfc-4028-a940-455514f417a4"
      },
      "source": [
        "print(train_img.shape)"
      ],
      "execution_count": 15,
      "outputs": [
        {
          "output_type": "stream",
          "text": [
            "(49000, 784)\n"
          ],
          "name": "stdout"
        }
      ]
    },
    {
      "cell_type": "code",
      "metadata": {
        "id": "aQdx9gRz0tQl",
        "colab_type": "code",
        "colab": {
          "base_uri": "https://localhost:8080/",
          "height": 34
        },
        "outputId": "cfeebc22-bcf9-4ae1-a241-d8301c82dc60"
      },
      "source": [
        "print(test_img.shape)"
      ],
      "execution_count": 16,
      "outputs": [
        {
          "output_type": "stream",
          "text": [
            "(21000, 784)\n"
          ],
          "name": "stdout"
        }
      ]
    },
    {
      "cell_type": "code",
      "metadata": {
        "id": "55LgfCjI1Ayy",
        "colab_type": "code",
        "colab": {
          "base_uri": "https://localhost:8080/",
          "height": 34
        },
        "outputId": "e188d650-7f60-4b14-98a1-97f0a4c4779e"
      },
      "source": [
        "print(train_lbl.shape)"
      ],
      "execution_count": 17,
      "outputs": [
        {
          "output_type": "stream",
          "text": [
            "(49000,)\n"
          ],
          "name": "stdout"
        }
      ]
    },
    {
      "cell_type": "code",
      "metadata": {
        "id": "3iCc3EOb1LOL",
        "colab_type": "code",
        "colab": {}
      },
      "source": [
        "import numpy as np\n",
        "import matplotlib.pyplot as plt"
      ],
      "execution_count": 18,
      "outputs": []
    },
    {
      "cell_type": "code",
      "metadata": {
        "id": "zAiEdwzS1hbs",
        "colab_type": "code",
        "colab": {
          "base_uri": "https://localhost:8080/",
          "height": 283
        },
        "outputId": "59d23fbb-9490-41f5-92b1-53bd6bd04648"
      },
      "source": [
        "plt.figure(figsize = (20,4))\n",
        "for index, (images, label) in enumerate(zip(train_img[0:5], train_lbl[0:5])):\n",
        "  plt.subplot(1,5, index+1)\n",
        "  plt.imshow(np.reshape(images, (28, 28)), cmap= plt.cm.gray)\n",
        "  plt.title('Training : %s \\n' %label, fontsize = 20)"
      ],
      "execution_count": 21,
      "outputs": [
        {
          "output_type": "display_data",
          "data": {
            "image/png": "[encoded data removed]",
            "text/plain": [
              "<Figure size 1440x288 with 5 Axes>"
            ]
          },
          "metadata": {
            "tags": [],
            "needs_background": "light"
          }
        }
      ]
    },
    {
      "cell_type": "code",
      "metadata": {
        "id": "AhpeBKkm1lYc",
        "colab_type": "code",
        "colab": {}
      },
      "source": [
        "from sklearn.linear_model import LogisticRegression"
      ],
      "execution_count": 22,
      "outputs": []
    },
    {
      "cell_type": "markdown",
      "metadata": {
        "id": "pXLPF_uN7Bhx",
        "colab_type": "text"
      },
      "source": [
        "lets give the label, lbfgs - is function for optimizer, "
      ]
    },
    {
      "cell_type": "code",
      "metadata": {
        "id": "RwEiskZi6mgK",
        "colab_type": "code",
        "colab": {}
      },
      "source": [
        "logisticRegr = LogisticRegression( solver = 'lbfgs')"
      ],
      "execution_count": 25,
      "outputs": []
    },
    {
      "cell_type": "code",
      "metadata": {
        "id": "H8ud0Vr76-Tq",
        "colab_type": "code",
        "colab": {
          "base_uri": "https://localhost:8080/",
          "height": 235
        },
        "outputId": "bad3c2d0-8b62-4937-ad97-c60fd760c286"
      },
      "source": [
        "logisticRegr.fit(train_img, train_lbl)"
      ],
      "execution_count": 27,
      "outputs": [
        {
          "output_type": "stream",
          "text": [
            "/usr/local/lib/python3.6/dist-packages/sklearn/linear_model/_logistic.py:940: ConvergenceWarning: lbfgs failed to converge (status=1):\n",
            "STOP: TOTAL NO. of ITERATIONS REACHED LIMIT.\n",
            "\n",
            "Increase the number of iterations (max_iter) or scale the data as shown in:\n",
            "    https://scikit-learn.org/stable/modules/preprocessing.html\n",
            "Please also refer to the documentation for alternative solver options:\n",
            "    https://scikit-learn.org/stable/modules/linear_model.html#logistic-regression\n",
            "  extra_warning_msg=_LOGISTIC_SOLVER_CONVERGENCE_MSG)\n"
          ],
          "name": "stderr"
        },
        {
          "output_type": "execute_result",
          "data": {
            "text/plain": [
              "LogisticRegression(C=1.0, class_weight=None, dual=False, fit_intercept=True,\n",
              "                   intercept_scaling=1, l1_ratio=None, max_iter=100,\n",
              "                   multi_class='auto', n_jobs=None, penalty='l2',\n",
              "                   random_state=None, solver='lbfgs', tol=0.0001, verbose=0,\n",
              "                   warm_start=False)"
            ]
          },
          "metadata": {
            "tags": []
          },
          "execution_count": 27
        }
      ]
    },
    {
      "cell_type": "code",
      "metadata": {
        "id": "HD8vZsSM8YdT",
        "colab_type": "code",
        "colab": {
          "base_uri": "https://localhost:8080/",
          "height": 34
        },
        "outputId": "176bfd0c-0303-400a-edc7-74e74ecf4b5c"
      },
      "source": [
        "logisticRegr.predict(test_img[0].reshape(1, -1))"
      ],
      "execution_count": 28,
      "outputs": [
        {
          "output_type": "execute_result",
          "data": {
            "text/plain": [
              "array(['0'], dtype=object)"
            ]
          },
          "metadata": {
            "tags": []
          },
          "execution_count": 28
        }
      ]
    },
    {
      "cell_type": "code",
      "metadata": {
        "id": "oV9AMnN79KQ2",
        "colab_type": "code",
        "colab": {
          "base_uri": "https://localhost:8080/",
          "height": 958
        },
        "outputId": "c90b7e28-46ba-404f-92e1-c06d4168122f"
      },
      "source": [
        "print(test_img[0].reshape(1, -1))"
      ],
      "execution_count": 29,
      "outputs": [
        {
          "output_type": "stream",
          "text": [
            "[[  0.   0.   0.   0.   0.   0.   0.   0.   0.   0.   0.   0.   0.   0.\n",
            "    0.   0.   0.   0.   0.   0.   0.   0.   0.   0.   0.   0.   0.   0.\n",
            "    0.   0.   0.   0.   0.   0.   0.   0.   0.   0.   0.   0.   0.   0.\n",
            "    0.   0.   0.   0.   0.   0.   0.   0.   0.   0.   0.   0.   0.   0.\n",
            "    0.   0.   0.   0.   0.   0.   0.   0.   0.   0.   0.   0.   0.   0.\n",
            "    0.   0.   0.   0.   0.   0.   0.   0.   0.   0.   0.   0.   0.   0.\n",
            "    0.   0.   0.   0.   0.   0.   0.   0.   0.   0.   0.   0.   0.   0.\n",
            "    0.   0.   0.   0.   0.   0.   0.   0.   0.   0.   0.   0.   0.   0.\n",
            "    0.   0.   0.   0.   0.   0.   0.   0.   0.   0.   0.   0.   0.  89.\n",
            "  147. 147. 249. 230.  59.   2.   0.   0.   0.   0.   0.   0.   0.   0.\n",
            "    0.   0.   0.   0.   0.   0.   0.   0.   0.   0.   0.  15. 160. 249.\n",
            "  254. 254. 254. 254. 254. 122.   0.   0.   0.   0.   0.   0.   0.   0.\n",
            "    0.   0.   0.   0.   0.   0.   0.   0.   0.   0.   8. 188. 254. 254.\n",
            "  254. 250. 147. 166. 253. 251. 120.   0.   0.   0.   0.   0.   0.   0.\n",
            "    0.   0.   0.   0.   0.   0.   0.   0.   0.  14. 189. 254. 254. 207.\n",
            "  103.  22.   0.   0. 126. 253. 200.   8.   0.   0.   0.   0.   0.   0.\n",
            "    0.   0.   0.   0.   0.   0.   0.   0.   0. 163. 254. 254. 227.  15.\n",
            "    0.   0.   0.   0.   0. 245. 254.  78.   0.   0.   0.   0.   0.   0.\n",
            "    0.   0.   0.   0.   0.   0.   0.   0.  91. 248. 254. 227.  43.   0.\n",
            "    0.   0.   0.   0.   0. 240. 254. 200.   3.   0.   0.   0.   0.   0.\n",
            "    0.   0.   0.   0.   0.   0.   0.   4. 216. 254. 254. 194. 158.  34.\n",
            "    0.   0.   0.   0.   0. 136. 254. 254.   5.   0.   0.   0.   0.   0.\n",
            "    0.   0.   0.   0.   0.   0.   0.   6. 254. 254. 254. 254. 254. 129.\n",
            "    0.   0.   0.   0.   0. 136. 254. 254.   5.   0.   0.   0.   0.   0.\n",
            "    0.   0.   0.   0.   0.   0.   0.  60. 254. 254. 254. 254. 122.  11.\n",
            "    0.   0.   0.   0.   0. 129. 254. 254.   5.   0.   0.   0.   0.   0.\n",
            "    0.   0.   0.   0.   0.   0.   0. 115. 254. 254. 254. 223.  22.   0.\n",
            "    0.   0.   0.   0.   0.  51. 254. 254.   5.   0.   0.   0.   0.   0.\n",
            "    0.   0.   0.   0.   0.   0.   0. 115. 254. 254. 254. 205.   0.   0.\n",
            "    0.   0.   0.   0.   0. 136. 254. 254.   5.   0.   0.   0.   0.   0.\n",
            "    0.   0.   0.   0.   0.   0.   0. 115. 254. 254. 254. 252.  56.   0.\n",
            "    0.   0.   0.   0.   0. 136. 254. 254.   5.   0.   0.   0.   0.   0.\n",
            "    0.   0.   0.   0.   0.   0.   0.  89. 254. 254. 254. 254.  59.   0.\n",
            "    0.   0.   0.   0.   0. 136. 254. 254.   5.   0.   0.   0.   0.   0.\n",
            "    0.   0.   0.   0.   0.   0.   0.   6. 254. 254. 254. 254. 101.   0.\n",
            "    0.   0.   0.   0.   0. 224. 254. 254.   5.   0.   0.   0.   0.   0.\n",
            "    0.   0.   0.   0.   0.   0.   0.   1.  29. 220. 254. 254. 167.   0.\n",
            "    0.   0.   0.   0.  65. 250. 254. 199.   3.   0.   0.   0.   0.   0.\n",
            "    0.   0.   0.   0.   0.   0.   0.   0.   0.  61. 209. 254. 227.  15.\n",
            "    0.   0.   0.  16. 219. 254. 255.  77.   0.   0.   0.   0.   0.   0.\n",
            "    0.   0.   0.   0.   0.   0.   0.   0.   0.   0. 120. 254. 254. 155.\n",
            "    0.   0.   9. 185. 254. 254. 200.   8.   0.   0.   0.   0.   0.   0.\n",
            "    0.   0.   0.   0.   0.   0.   0.   0.   0.   0.   7. 187. 254. 254.\n",
            "  180. 141. 244. 254. 254. 251. 119.   0.   0.   0.   0.   0.   0.   0.\n",
            "    0.   0.   0.   0.   0.   0.   0.   0.   0.   0.   0.  15. 183. 254.\n",
            "  254. 254. 254. 254. 227. 118.   0.   0.   0.   0.   0.   0.   0.   0.\n",
            "    0.   0.   0.   0.   0.   0.   0.   0.   0.   0.   0.   0.  13.  91.\n",
            "  215. 254. 245. 121.  23.   0.   0.   0.   0.   0.   0.   0.   0.   0.\n",
            "    0.   0.   0.   0.   0.   0.   0.   0.   0.   0.   0.   0.   0.   0.\n",
            "    0.   0.   0.   0.   0.   0.   0.   0.   0.   0.   0.   0.   0.   0.\n",
            "    0.   0.   0.   0.   0.   0.   0.   0.   0.   0.   0.   0.   0.   0.\n",
            "    0.   0.   0.   0.   0.   0.   0.   0.   0.   0.   0.   0.   0.   0.\n",
            "    0.   0.   0.   0.   0.   0.   0.   0.   0.   0.   0.   0.   0.   0.\n",
            "    0.   0.   0.   0.   0.   0.   0.   0.   0.   0.   0.   0.   0.   0.\n",
            "    0.   0.   0.   0.   0.   0.   0.   0.   0.   0.   0.   0.   0.   0.\n",
            "    0.   0.   0.   0.   0.   0.   0.   0.   0.   0.   0.   0.   0.   0.]]\n"
          ],
          "name": "stdout"
        }
      ]
    },
    {
      "cell_type": "code",
      "metadata": {
        "id": "H5Qm9mv89SRD",
        "colab_type": "code",
        "colab": {
          "base_uri": "https://localhost:8080/",
          "height": 34
        },
        "outputId": "3037719a-8332-4b78-cc50-e2fc37d6300d"
      },
      "source": [
        "logisticRegr.predict(test_img[0:10])"
      ],
      "execution_count": 30,
      "outputs": [
        {
          "output_type": "execute_result",
          "data": {
            "text/plain": [
              "array(['0', '4', '1', '2', '7', '7', '7', '1', '1', '7'], dtype=object)"
            ]
          },
          "metadata": {
            "tags": []
          },
          "execution_count": 30
        }
      ]
    },
    {
      "cell_type": "code",
      "metadata": {
        "id": "5WBdAWyL9ydR",
        "colab_type": "code",
        "colab": {}
      },
      "source": [
        "prediction = logisticRegr.predict(test_img)"
      ],
      "execution_count": 32,
      "outputs": []
    },
    {
      "cell_type": "code",
      "metadata": {
        "id": "YnWgE2FB-bsh",
        "colab_type": "code",
        "colab": {
          "base_uri": "https://localhost:8080/",
          "height": 34
        },
        "outputId": "e8aae224-2b50-4384-c4c8-6a9ff7bd4b6c"
      },
      "source": [
        "score = logisticRegr.score(test_img, test_lbl)\n",
        "print(score)"
      ],
      "execution_count": 35,
      "outputs": [
        {
          "output_type": "stream",
          "text": [
            "0.9186666666666666\n"
          ],
          "name": "stdout"
        }
      ]
    },
    {
      "cell_type": "code",
      "metadata": {
        "id": "CHoff9xS-qT1",
        "colab_type": "code",
        "colab": {}
      },
      "source": [
        "index = 0\n",
        "misclassifiedIndexes = []\n",
        "for label, predict in zip(test_lbl, prediction):\n",
        "  if label != predict:\n",
        "    misclassifiedIndexes.append(index)\n",
        "  index += 1  "
      ],
      "execution_count": 38,
      "outputs": []
    },
    {
      "cell_type": "code",
      "metadata": {
        "id": "Yq96pVzX_v-h",
        "colab_type": "code",
        "colab": {
          "base_uri": "https://localhost:8080/",
          "height": 258
        },
        "outputId": "b45f1cc0-43ea-4740-a300-e09a4f04aca6"
      },
      "source": [
        "plt.figure(figsize= (20, 4))\n",
        "for plotIndex, badIndex in enumerate(misclassifiedIndexes[0:5]):\n",
        "  plt.subplot(1, 5, plotIndex + 1)\n",
        "  plt.imshow(np.reshape(test_img[badIndex], (28,28)), cmap=plt.cm.gray)\n",
        "  plt.title('Predicted: {}, Actual: {}'.format(prediction[badIndex], test_lbl[badIndex]), fontsize = 15)"
      ],
      "execution_count": 47,
      "outputs": [
        {
          "output_type": "display_data",
          "data": {
            "image/png": "[encoded data removed]",
            "text/plain": [
              "<Figure size 1440x288 with 5 Axes>"
            ]
          },
          "metadata": {
            "tags": [],
            "needs_background": "light"
          }
        }
      ]
    },
    {
      "cell_type": "code",
      "metadata": {
        "id": "QyrvHi7fBAfD",
        "colab_type": "code",
        "colab": {}
      },
      "source": [
        "index2 = 0\n",
        "correctclassifiedIndexes = []\n",
        "for label, predict in zip(test_lbl, prediction):\n",
        "  if label == predict:\n",
        "    correctclassifiedIndexes.append(index2)\n",
        "  index2 += 1  "
      ],
      "execution_count": 50,
      "outputs": []
    },
    {
      "cell_type": "code",
      "metadata": {
        "id": "6WXpyQN1EoAm",
        "colab_type": "code",
        "colab": {
          "base_uri": "https://localhost:8080/",
          "height": 258
        },
        "outputId": "617d6b85-1236-4a2d-a672-30a43dbbbe2d"
      },
      "source": [
        "plt.figure(figsize= (20, 4))\n",
        "for plotIndex, badIndex in enumerate(correctclassifiedIndexes[0:5]):\n",
        "  plt.subplot(1, 5, plotIndex + 1)\n",
        "  plt.imshow(np.reshape(test_img[badIndex], (28,28)), cmap=plt.cm.gray)\n",
        "  plt.title('Predicted: {}, Actual: {}'.format(prediction[badIndex], test_lbl[badIndex]), fontsize = 15)"
      ],
      "execution_count": 51,
      "outputs": [
        {
          "output_type": "display_data",
          "data": {
            "image/png": "[encoded data removed]",
            "text/plain": [
              "<Figure size 1440x288 with 5 Axes>"
            ]
          },
          "metadata": {
            "tags": [],
            "needs_background": "light"
          }
        }
      ]
    },
    {
      "cell_type": "code",
      "metadata": {
        "id": "ykJD7sNEE3Zr",
        "colab_type": "code",
        "colab": {}
      },
      "source": [
        ""
      ],
      "execution_count": null,
      "outputs": []
    }
  ]
}